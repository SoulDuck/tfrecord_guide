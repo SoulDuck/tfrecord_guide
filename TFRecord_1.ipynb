{
 "cells": [
  {
   "cell_type": "code",
   "execution_count": 2,
   "metadata": {
    "collapsed": true
   },
   "outputs": [],
   "source": [
    "import tensorflow as tf \n",
    "import numpy as np "
   ]
  },
  {
   "cell_type": "code",
   "execution_count": 3,
   "metadata": {
    "collapsed": true
   },
   "outputs": [],
   "source": [
    "def read_and_decode(filename_queue):\n",
    "\n",
    "# input: filename\n",
    "# output: image, label pair\n",
    "\n",
    "# setup a TF record reader\n",
    "    reader = tf.TFRecordReader()\n",
    "    _, serialized_example = reader.read(filename_queue)\n",
    "\n",
    "# list the features we want to extract, i.e., the image and the label\n",
    "    features = tf.parse_single_example(\n",
    "        serialized_example,\n",
    "        features={\n",
    "            'img_raw': tf.FixedLenFeature([], tf.string),\n",
    "            'label_raw': tf.FixedLenFeature([], tf.string),\n",
    "        })\n",
    "\n",
    "  # Decode the training image\n",
    "  # Convert from a scalar string tensor (whose single string has\n",
    "  # length 256*256) to a float tensor\n",
    "    image = tf.decode_raw(features['img_raw'], tf.int64)\n",
    "    image.set_shape([65536])\n",
    "    image_re = tf.reshape(image, (256,256))\n",
    "\n",
    "# Scale input pixels by 1024\n",
    "    image_re = tf.cast(image_re, tf.float32) * (1. / 1024)\n",
    "\n",
    "# decode the label image, an image with all 0's except 1's where the left\n",
    "# ventricle exists\n",
    "    label = tf.decode_raw(features['label_raw'], tf.uint8)\n",
    "    label.set_shape([65536])\n",
    "    label_re = tf.reshape(label, [256,256])\n",
    "\n",
    "    return image_re, label_re\n"
   ]
  },
  {
   "cell_type": "code",
   "execution_count": 4,
   "metadata": {
    "collapsed": true
   },
   "outputs": [],
   "source": [
    "\n",
    "def inputs(batch_size, num_epochs, filename):\n",
    "\n",
    "# inputs: batch_size, num_epochs are scalars, filename\n",
    "# output: image and label pairs for use in training or eval\n",
    "\n",
    "    if not num_epochs: num_epochs = None\n",
    "\n",
    "# define the input node\n",
    "    with tf.name_scope('input'):\n",
    "\n",
    "# setup a TF filename_queue\n",
    "        filename_queue = tf.train.string_input_producer(\n",
    "            [filename], num_epochs=num_epochs)\n",
    "    \n",
    "# return and image and label\n",
    "        image, label = read_and_decode(filename_queue)\n",
    "    \n",
    "# shuffle the images, not strictly necessary as the data creating\n",
    "# phase already did it, but there's no harm doing it again.\n",
    "\n",
    "        images, sparse_labels = tf.train.shuffle_batch(\n",
    "            [image, label], batch_size=batch_size, num_threads=2,\n",
    "            capacity=15,\n",
    "            min_after_dequeue = 10)\n",
    "\n",
    "#        tf.image_summary( 'images', tf.reshape(images,[-1,256,256,1] ))\n",
    "#        tf.image_summary( 'labels', tf.reshape(sparse_labels,[-1,256,256,1]))\n",
    "        return images, sparse_labels\n"
   ]
  },
  {
   "cell_type": "code",
   "execution_count": null,
   "metadata": {
    "collapsed": true
   },
   "outputs": [],
   "source": [
    "batch_size =64\n",
    "num_epochs = 1\n",
    "\n",
    "input(batch_size , num_epochs , filename )"
   ]
  }
 ],
 "metadata": {
  "kernelspec": {
   "display_name": "Python 2",
   "language": "python",
   "name": "python2"
  },
  "language_info": {
   "codemirror_mode": {
    "name": "ipython",
    "version": 2
   },
   "file_extension": ".py",
   "mimetype": "text/x-python",
   "name": "python",
   "nbconvert_exporter": "python",
   "pygments_lexer": "ipython2",
   "version": "2.7.6"
  }
 },
 "nbformat": 4,
 "nbformat_minor": 1
}
