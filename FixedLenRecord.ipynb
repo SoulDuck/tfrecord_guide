{
 "cells": [
  {
   "cell_type": "code",
   "execution_count": 1,
   "metadata": {
    "collapsed": true
   },
   "outputs": [],
   "source": [
    "import tensorflow as tf"
   ]
  },
  {
   "cell_type": "code",
   "execution_count": 2,
   "metadata": {
    "collapsed": false
   },
   "outputs": [
    {
     "ename": "SyntaxError",
     "evalue": "invalid syntax (<ipython-input-2-23fd9529f83e>, line 1)",
     "output_type": "error",
     "traceback": [
      "\u001b[0;36m  File \u001b[0;32m\"<ipython-input-2-23fd9529f83e>\"\u001b[0;36m, line \u001b[0;32m1\u001b[0m\n\u001b[0;31m    features {\u001b[0m\n\u001b[0m             ^\u001b[0m\n\u001b[0;31mSyntaxError\u001b[0m\u001b[0;31m:\u001b[0m invalid syntax\n"
     ]
    }
   ],
   "source": [
    "features {\n",
    "  feature {\n",
    "    key: \"label\"\n",
    "    value {\n",
    "      int64_list {\n",
    "        value: 1\n",
    "      }\n",
    "    }\n",
    "  }\n",
    "  feature {\n",
    "    key: \"col1\"\n",
    "    value {\n",
    "      float_list {\n",
    "        value: -1.15293061733\n",
    "      }\n",
    "    }\n",
    "  }\n",
    "  feature {\n",
    "    key: \"col2\"\n",
    "    value {\n",
    "      bytes_list {\n",
    "        value: \"vPlNwEdfGNA8\"\n",
    "      }\n",
    "    }\n",
    "  }\n",
    "}"
   ]
  },
  {
   "cell_type": "code",
   "execution_count": null,
   "metadata": {
    "collapsed": true
   },
   "outputs": [],
   "source": []
  }
 ],
 "metadata": {
  "kernelspec": {
   "display_name": "Python 2",
   "language": "python",
   "name": "python2"
  },
  "language_info": {
   "codemirror_mode": {
    "name": "ipython",
    "version": 2
   },
   "file_extension": ".py",
   "mimetype": "text/x-python",
   "name": "python",
   "nbconvert_exporter": "python",
   "pygments_lexer": "ipython2",
   "version": "2.7.6"
  }
 },
 "nbformat": 4,
 "nbformat_minor": 1
}
